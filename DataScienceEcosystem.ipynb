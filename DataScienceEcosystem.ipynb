{
 "cells": [
  {
   "cell_type": "markdown",
   "id": "5cc7720e-c624-470b-8b87-f33b16cc0f01",
   "metadata": {},
   "source": [
    "# Data Science Tools and Ecosystem"
   ]
  },
  {
   "cell_type": "markdown",
   "id": "1375e750-9590-4768-975d-d9f1fac098af",
   "metadata": {},
   "source": [
    "In this notebook, Data Science Tools and Ecosystem are summarized."
   ]
  },
  {
   "cell_type": "markdown",
   "id": "35dce530-1166-429a-9719-af6babfaee40",
   "metadata": {},
   "source": [
    "__Objectives:__\n",
    "\n",
    "* List popular languages for Data Science\n",
    "- List of commonly used libraries\n",
    "+ Arithmetic Expressions in Python\n",
    "* IDEs used in Data Science\n"
   ]
  },
  {
   "cell_type": "markdown",
   "id": "a8a9d734-64ac-4bb5-9a0d-7a881915c4ab",
   "metadata": {},
   "source": [
    "Some of the popular languages that Data Scientists use are:\n",
    "\n",
    "1. Python\n",
    "\n",
    "2. SQL\n",
    "\n",
    "3. R-Langyage\n",
    " \n",
    "4. Java"
   ]
  },
  {
   "cell_type": "markdown",
   "id": "ee05e1b0-ab35-4de2-a886-5b09809a4c8b",
   "metadata": {},
   "source": [
    "Some of the commonly used libraries used by Data Scientists include:\n",
    "1. Numpy\n",
    "\n",
    "2. Pandas\n",
    "\n",
    "3. Tensorlow\n",
    "\n",
    "4. Keras"
   ]
  },
  {
   "cell_type": "markdown",
   "id": "775541af-b315-4cef-9c7e-06dc27d674ea",
   "metadata": {},
   "source": [
    "|Data Science Tools |\n",
    "| :--               |\n",
    "|JupyterLab Notebook|\n",
    "|IBM Watson Studio  |\n",
    "|Google Colab       |"
   ]
  },
  {
   "cell_type": "markdown",
   "id": "cde708af-5e20-42fc-993e-3682654368b0",
   "metadata": {},
   "source": [
    "### Below are a few examples of evaluating arithmetic expressions in Python\n"
   ]
  },
  {
   "cell_type": "code",
   "execution_count": 4,
   "id": "59875141-eeaf-44f1-b594-949daf1f38e0",
   "metadata": {},
   "outputs": [
    {
     "data": {
      "text/plain": [
       "17"
      ]
     },
     "execution_count": 4,
     "metadata": {},
     "output_type": "execute_result"
    }
   ],
   "source": [
    "#  This a simple arithmetic expression to mutiply then add integers\n",
    "(3*4)+5"
   ]
  },
  {
   "cell_type": "code",
   "execution_count": 5,
   "id": "54a12bb1-494d-416e-bfbb-c788d7ee4f9a",
   "metadata": {},
   "outputs": [
    {
     "data": {
      "text/plain": [
       "3"
      ]
     },
     "execution_count": 5,
     "metadata": {},
     "output_type": "execute_result"
    }
   ],
   "source": [
    "# This will convert 200 minutes to hours by diving by 60\n",
    "200 // 60"
   ]
  },
  {
   "cell_type": "markdown",
   "id": "3f429c31-a5ad-47b0-86ad-00cea8daa5a2",
   "metadata": {},
   "source": [
    "## Author\n",
    "Syed Sumair Hassan"
   ]
  }
 ],
 "metadata": {
  "kernelspec": {
   "display_name": "Python",
   "language": "python",
   "name": "conda-env-python-py"
  },
  "language_info": {
   "codemirror_mode": {
    "name": "ipython",
    "version": 3
   },
   "file_extension": ".py",
   "mimetype": "text/x-python",
   "name": "python",
   "nbconvert_exporter": "python",
   "pygments_lexer": "ipython3",
   "version": "3.7.12"
  }
 },
 "nbformat": 4,
 "nbformat_minor": 5
}
